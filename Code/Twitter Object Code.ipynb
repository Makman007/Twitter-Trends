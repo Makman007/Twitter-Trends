{
 "cells": [
  {
   "cell_type": "markdown",
   "metadata": {},
   "source": [
    "# Twitter Engagement Code\n",
    "## Code to create a twitter object, extract relevant tweets, clean and do some frequemcy and sentiment analysis through the nltk package"
   ]
  },
  {
   "cell_type": "markdown",
   "metadata": {},
   "source": [
    "Create a pickle object to securely record the twitter authentication keys obtained from the twitter developer account"
   ]
  },
  {
   "cell_type": "code",
   "execution_count": 1,
   "metadata": {},
   "outputs": [],
   "source": [
    "import pickle\n",
    "import os"
   ]
  },
  {
   "cell_type": "code",
   "execution_count": 2,
   "metadata": {},
   "outputs": [],
   "source": [
    "#use the generated keys from twitter, this code checks if these already exist, if not create a secret credentails file otherwise\n",
    "# load previous credentials, credentials should not be visible in files for security reasons\n",
    "\n",
    "if not os.path.exists('secret_twitter_credentials.pkl'):\n",
    "    Twitter={}\n",
    "    Twitter['Consumer Key'] = ''\n",
    "    Twitter['Consumer Secret'] = ''\n",
    "    Twitter['Access Token'] = ''\n",
    "    Twitter['Access Token Secret'] = ''\n",
    "    with open('secret_twitter_credentials.pkl','wb') as f:\n",
    "        pickle.dump(Twitter, f)\n",
    "else:\n",
    "    Twitter=pickle.load(open('secret_twitter_credentials.pkl','rb'))"
   ]
  },
  {
   "cell_type": "code",
   "execution_count": 3,
   "metadata": {},
   "outputs": [
    {
     "name": "stdout",
     "output_type": "stream",
     "text": [
      "Requirement already satisfied: twitter in c:\\users\\makro\\anaconda3\\lib\\site-packages (1.18.0)\n"
     ]
    }
   ],
   "source": [
    "# ensure that the Twitter package is installed\n",
    "!pip install twitter"
   ]
  },
  {
   "cell_type": "code",
   "execution_count": 4,
   "metadata": {
    "scrolled": true
   },
   "outputs": [
    {
     "name": "stdout",
     "output_type": "stream",
     "text": [
      "Requirement already satisfied: nltk in c:\\users\\makro\\anaconda3\\lib\\site-packages (3.4.5)\n",
      "Requirement already satisfied: six in c:\\users\\makro\\anaconda3\\lib\\site-packages (from nltk) (1.12.0)\n"
     ]
    }
   ],
   "source": [
    "!pip install nltk"
   ]
  },
  {
   "cell_type": "code",
   "execution_count": 5,
   "metadata": {},
   "outputs": [
    {
     "name": "stderr",
     "output_type": "stream",
     "text": [
      "[nltk_data] Downloading package stopwords to\n",
      "[nltk_data]     C:\\Users\\makro\\AppData\\Roaming\\nltk_data...\n",
      "[nltk_data]   Package stopwords is already up-to-date!\n"
     ]
    },
    {
     "data": {
      "text/plain": [
       "True"
      ]
     },
     "execution_count": 5,
     "metadata": {},
     "output_type": "execute_result"
    }
   ],
   "source": [
    "import numpy as np\n",
    "import pandas as pd\n",
    "import string\n",
    "import nltk\n",
    "\n",
    "nltk.download('stopwords')"
   ]
  },
  {
   "cell_type": "code",
   "execution_count": 6,
   "metadata": {},
   "outputs": [],
   "source": [
    "import matplotlib.pyplot as plt\n",
    "%matplotlib inline"
   ]
  },
  {
   "cell_type": "markdown",
   "metadata": {},
   "source": [
    "##  Authorizing an application to access Twitter account data"
   ]
  },
  {
   "cell_type": "code",
   "execution_count": 7,
   "metadata": {},
   "outputs": [
    {
     "data": {
      "text/plain": [
       "twitter.api.Twitter"
      ]
     },
     "execution_count": 7,
     "metadata": {},
     "output_type": "execute_result"
    }
   ],
   "source": [
    "import twitter\n",
    "#auth is an aithentication object\n",
    "auth = twitter.oauth.OAuth(Twitter['Access Token'],\n",
    "                           Twitter['Access Token Secret'],\n",
    "                           Twitter['Consumer Key'],\n",
    "                           Twitter['Consumer Secret'])\n",
    "\n",
    "#twitter apu object, part of the Twitter Class\n",
    "twitter_api = twitter.Twitter(auth=auth)\n",
    "\n",
    "# Nothing to see by displaying twitter_api except that it's now a\n",
    "# defined variable\n",
    "\n",
    "type(twitter_api)"
   ]
  },
  {
   "cell_type": "markdown",
   "metadata": {},
   "source": [
    "# Look at global and local trends from Twitter\n",
    "\n",
    "Twitter identifies locations using the Yahoo! Where On Earth ID."
   ]
  },
  {
   "cell_type": "code",
   "execution_count": 8,
   "metadata": {},
   "outputs": [],
   "source": [
    "WORLD_WOE_ID = 1\n",
    "US_WOE_ID = 23424977\n",
    "CA_WOE_ID = 23424775\n",
    "\n",
    "# Added for Toronto\n",
    "LOCAL_WOE_ID=4118\n"
   ]
  },
  {
   "cell_type": "code",
   "execution_count": 9,
   "metadata": {},
   "outputs": [],
   "source": [
    "\n",
    "# Prefix ID with the underscore for query string parameterization.\n",
    "# Without the underscore, the twitter package appends the ID value\n",
    "# to the URL itself as a special case keyword argument.\n",
    "\n",
    "world_trends = twitter_api.trends.place(_id=WORLD_WOE_ID)\n",
    "us_trends = twitter_api.trends.place(_id=US_WOE_ID)\n",
    "canada_trends = twitter_api.trends.place(_id=CA_WOE_ID)\n",
    "local_trends = twitter_api.trends.place(_id=LOCAL_WOE_ID)"
   ]
  },
  {
   "cell_type": "code",
   "execution_count": 10,
   "metadata": {},
   "outputs": [
    {
     "name": "stdout",
     "output_type": "stream",
     "text": [
      "<class 'twitter.api.TwitterListResponse'>\n",
      "['trends', 'as_of', 'created_at', 'locations']\n"
     ]
    }
   ],
   "source": [
    "trends=local_trends\n",
    "print(type(trends))\n",
    "print(list(trends[0].keys()))\n",
    "#print(trends[0]['trends'])"
   ]
  },
  {
   "cell_type": "markdown",
   "metadata": {},
   "source": [
    "Using pretty printy JSON"
   ]
  },
  {
   "cell_type": "code",
   "execution_count": 11,
   "metadata": {
    "scrolled": true
   },
   "outputs": [
    {
     "name": "stdout",
     "output_type": "stream",
     "text": [
      "#90DayFiance\n",
      "#SEAvsGB\n",
      "#GoPackGo\n",
      "Aaron Rodgers\n",
      "Packers\n",
      "Maple Leaf Foods\n",
      "Russell Wilson\n",
      "Green Bay\n",
      "Michael McCain\n",
      "Jimmy Graham\n",
      "Pete Carroll\n",
      "#DidntLiveUpToTheHype\n",
      "#SisterWives\n",
      "Jimmy Johnson\n",
      "DeMar\n",
      "mccaw\n",
      "derozan\n",
      "Mursel\n",
      "Mr. McCain\n",
      "Yellow Weasel\n",
      "Siakam\n",
      "Marshawn Lynch\n",
      "Lynette\n",
      "The Outsider\n",
      "Hutchinson\n",
      "Greg Millen\n",
      "Jonathan Huberdeau\n",
      "Clowney\n",
      "Troy Aikman\n",
      "Tyson Barrie\n",
      "Zach Hyman\n",
      "Shero\n",
      "Lambeau\n",
      "lockett\n",
      "Turner\n",
      "Beast Mode\n",
      "#HardToKill\n",
      "#gohawks\n",
      "#RHOA\n",
      "#gbvssea\n",
      "#CriticsChoice\n",
      "#YIAYapp\n",
      "#TORvsFLA\n",
      "#NFCChampionship\n",
      "#celebration2020\n",
      "#halloffame\n",
      "#Tokyo2020\n",
      "#SanditonPBS\n",
      "#LoveIsland\n",
      "#hometownhockey\n"
     ]
    }
   ],
   "source": [
    "# Look at names of the local trends\n",
    "for i in local_trends[0]['trends']:\n",
    "    print(i['name'])"
   ]
  },
  {
   "cell_type": "code",
   "execution_count": 12,
   "metadata": {},
   "outputs": [
    {
     "name": "stdout",
     "output_type": "stream",
     "text": [
      "{\n",
      " \"trends\": [\n",
      "  {\n",
      "   \"name\": \"#90DayFiance\",\n",
      "   \"url\": \"http://twitter.com/search?q=%2390DayFiance\",\n",
      "   \"promoted_content\": null,\n",
      "   \"query\": \"%2390DayFiance\",\n",
      "   \"tweet_volume\": 21365\n",
      "  },\n",
      "  {\n",
      "   \"name\": \"#SEAvsGB\",\n",
      "   \"url\": \"http://twitter.com/search?q=%23SEAvsGB\",\n",
      "   \"promoted_content\": null,\n",
      "   \"query\": \"%23SEAvsGB\",\n",
      "   \"tweet_volume\": 93860\n",
      "  },\n",
      "  {\n",
      "   \"name\": \"#GoPackGo\",\n",
      "   \"url\": \"http://twitter.com/search?q=%23GoPackGo\",\n",
      "   \"promoted_content\": null,\n",
      "   \"query\": \"%23GoPackGo\",\n",
      "   \"tweet_volume\": 122436\n",
      "  },\n",
      "  {\n",
      "   \"name\": \"Aaron Rodgers\",\n",
      "   \"url\": \"http://twitter.com/search?q=%22Aaron+Rodgers%22\",\n",
      "   \"promoted_content\": null,\n",
      "   \"query\": \"%22Aaron+Rodgers%22\",\n",
      "   \"tweet_volume\": 35984\n",
      "  },\n",
      "  {\n",
      "   \"name\": \"Packers\",\n",
      "   \"url\": \"http://twitter.com/search?q=Packers\",\n",
      "   \"promoted_content\": null,\n",
      "   \"query\": \"Packers\",\n",
      "   \"tweet_volume\": 279341\n",
      "  },\n",
      "  {\n",
      "   \"name\": \"Maple Leaf Foods\",\n",
      "   \"url\": \"http://twitter.com/search?q=%22Maple+Leaf+Foods%22\",\n",
      "   \"promoted_content\": null,\n",
      "   \"query\": \"%22Maple+Leaf+Foods%22\",\n",
      "   \"tweet_volume\": null\n",
      "  },\n",
      "  {\n",
      "   \"name\": \"Russell Wilson\",\n",
      "   \"url\": \"http://twitter.com/search?q=%22Russell+Wilson%22\",\n",
      "   \"promoted_content\": null,\n",
      "   \"query\": \"%22Russell+Wilson%22\",\n",
      "   \"tweet_volume\": 31358\n",
      "  },\n",
      "  {\n",
      "   \"name\": \"Green Bay\",\n",
      "   \"url\": \"http://twitter.com/search?q=%22Green+Bay%22\",\n",
      "   \"promoted_content\": null,\n",
      "   \"query\": \"%22Green+Bay%22\",\n",
      "   \"tweet_volume\": 45567\n",
      "  },\n",
      "  {\n",
      "   \"name\": \"Michael McCain\",\n",
      "   \"url\": \"http://twitter.com/search?q=%22Michael+McCain%22\",\n",
      "   \"promoted_content\": null,\n",
      "   \"query\": \"%22Michael+McCain%22\",\n",
      "   \"tweet_volume\": null\n",
      "  },\n",
      "  {\n",
      "   \"name\": \"Jimmy Graham\",\n",
      "   \"url\": \"http://twitter.com/search?q=%22Jimmy+Graham%22\",\n",
      "   \"promoted_content\": null,\n",
      "   \"query\": \"%22Jimmy+Graham%22\",\n",
      "   \"tweet_volume\": null\n",
      "  },\n",
      "  {\n",
      "   \"name\": \"Pete Carroll\",\n",
      "   \"url\": \"http://twitter.com/search?q=%22Pete+Carroll%22\",\n",
      "   \"promoted_content\": null,\n",
      "   \"query\": \"%22Pete+Carroll%22\",\n",
      "   \"tweet_volume\": null\n",
      "  },\n",
      "  {\n",
      "   \"name\": \"#DidntLiveUpToTheHype\",\n",
      "   \"url\": \"http://twitter.com/search?q=%23DidntLiveUpToTheHype\",\n",
      "   \"promoted_content\": null,\n",
      "   \"query\": \"%23DidntLiveUpToTheHype\",\n",
      "   \"tweet_volume\": null\n",
      "  },\n",
      "  {\n",
      "   \"name\": \"#SisterWives\",\n",
      "   \"url\": \"http://twitter.com/search?q=%23SisterWives\",\n",
      "   \"promoted_content\": null,\n",
      "   \"query\": \"%23SisterWives\",\n",
      "   \"tweet_volume\": null\n",
      "  },\n",
      "  {\n",
      "   \"name\": \"Jimmy Johnson\",\n",
      "   \"url\": \"http://twitter.com/search?q=%22Jimmy+Johnson%22\",\n",
      "   \"promoted_content\": null,\n",
      "   \"query\": \"%22Jimmy+Johnson%22\",\n",
      "   \"tweet_volume\": 69200\n",
      "  },\n",
      "  {\n",
      "   \"name\": \"DeMar\",\n",
      "   \"url\": \"http://twitter.com/search?q=DeMar\",\n",
      "   \"promoted_content\": null,\n",
      "   \"query\": \"DeMar\",\n",
      "   \"tweet_volume\": 28411\n",
      "  },\n",
      "  {\n",
      "   \"name\": \"mccaw\",\n",
      "   \"url\": \"http://twitter.com/search?q=mccaw\",\n",
      "   \"promoted_content\": null,\n",
      "   \"query\": \"mccaw\",\n",
      "   \"tweet_volume\": null\n",
      "  },\n",
      "  {\n",
      "   \"name\": \"derozan\",\n",
      "   \"url\": \"http://twitter.com/search?q=derozan\",\n",
      "   \"promoted_content\": null,\n",
      "   \"query\": \"derozan\",\n",
      "   \"tweet_volume\": 18636\n",
      "  },\n",
      "  {\n",
      "   \"name\": \"Mursel\",\n",
      "   \"url\": \"http://twitter.com/search?q=Mursel\",\n",
      "   \"promoted_content\": null,\n",
      "   \"query\": \"Mursel\",\n",
      "   \"tweet_volume\": null\n",
      "  },\n",
      "  {\n",
      "   \"name\": \"Mr. McCain\",\n",
      "   \"url\": \"http://twitter.com/search?q=%22Mr.+McCain%22\",\n",
      "   \"promoted_content\": null,\n",
      "   \"query\": \"%22Mr.+McCain%22\",\n",
      "   \"tweet_volume\": null\n",
      "  },\n",
      "  {\n",
      "   \"name\": \"Yellow Weasel\",\n",
      "   \"url\": \"http://twitter.com/search?q=%22Yellow+Weasel%22\",\n",
      "   \"promoted_content\": null,\n",
      "   \"query\": \"%22Yellow+Weasel%22\",\n",
      "   \"tweet_volume\": null\n",
      "  },\n",
      "  {\n",
      "   \"name\": \"Siakam\",\n",
      "   \"url\": \"http://twitter.com/search?q=Siakam\",\n",
      "   \"promoted_content\": null,\n",
      "   \"query\": \"Siakam\",\n",
      "   \"tweet_volume\": null\n",
      "  },\n",
      "  {\n",
      "   \"name\": \"Marshawn Lynch\",\n",
      "   \"url\": \"http://twitter.com/search?q=%22Marshawn+Lynch%22\",\n",
      "   \"promoted_content\": null,\n",
      "   \"query\": \"%22Marshawn+Lynch%22\",\n",
      "   \"tweet_volume\": 15999\n",
      "  },\n",
      "  {\n",
      "   \"name\": \"Lynette\",\n",
      "   \"url\": \"http://twitter.com/search?q=Lynette\",\n",
      "   \"promoted_content\": null,\n",
      "   \"query\": \"Lynette\",\n",
      "   \"tweet_volume\": null\n",
      "  },\n",
      "  {\n",
      "   \"name\": \"The Outsider\",\n",
      "   \"url\": \"http://twitter.com/search?q=%22The+Outsider%22\",\n",
      "   \"promoted_content\": null,\n",
      "   \"query\": \"%22The+Outsider%22\",\n",
      "   \"tweet_volume\": null\n",
      "  },\n",
      "  {\n",
      "   \"name\": \"Hutchinson\",\n",
      "   \"url\": \"http://twitter.com/search?q=Hutchinson\",\n",
      "   \"promoted_content\": null,\n",
      "   \"query\": \"Hutchinson\",\n",
      "   \"tweet_volume\": null\n",
      "  },\n",
      "  {\n",
      "   \"name\": \"Greg Millen\",\n",
      "   \"url\": \"http://twitter.com/search?q=%22Greg+Millen%22\",\n",
      "   \"promoted_content\": null,\n",
      "   \"query\": \"%22Greg+Millen%22\",\n",
      "   \"tweet_volume\": null\n",
      "  },\n",
      "  {\n",
      "   \"name\": \"Jonathan Huberdeau\",\n",
      "   \"url\": \"http://twitter.com/search?q=%22Jonathan+Huberdeau%22\",\n",
      "   \"promoted_content\": null,\n",
      "   \"query\": \"%22Jonathan+Huberdeau%22\",\n",
      "   \"tweet_volume\": null\n",
      "  },\n",
      "  {\n",
      "   \"name\": \"Clowney\",\n",
      "   \"url\": \"http://twitter.com/search?q=Clowney\",\n",
      "   \"promoted_content\": null,\n",
      "   \"query\": \"Clowney\",\n",
      "   \"tweet_volume\": 20751\n",
      "  },\n",
      "  {\n",
      "   \"name\": \"Troy Aikman\",\n",
      "   \"url\": \"http://twitter.com/search?q=%22Troy+Aikman%22\",\n",
      "   \"promoted_content\": null,\n",
      "   \"query\": \"%22Troy+Aikman%22\",\n",
      "   \"tweet_volume\": 14982\n",
      "  },\n",
      "  {\n",
      "   \"name\": \"Tyson Barrie\",\n",
      "   \"url\": \"http://twitter.com/search?q=%22Tyson+Barrie%22\",\n",
      "   \"promoted_content\": null,\n",
      "   \"query\": \"%22Tyson+Barrie%22\",\n",
      "   \"tweet_volume\": null\n",
      "  },\n",
      "  {\n",
      "   \"name\": \"Zach Hyman\",\n",
      "   \"url\": \"http://twitter.com/search?q=%22Zach+Hyman%22\",\n",
      "   \"promoted_content\": null,\n",
      "   \"query\": \"%22Zach+Hyman%22\",\n",
      "   \"tweet_volume\": null\n",
      "  },\n",
      "  {\n",
      "   \"name\": \"Shero\",\n",
      "   \"url\": \"http://twitter.com/search?q=Shero\",\n",
      "   \"promoted_content\": null,\n",
      "   \"query\": \"Shero\",\n",
      "   \"tweet_volume\": null\n",
      "  },\n",
      "  {\n",
      "   \"name\": \"Lambeau\",\n",
      "   \"url\": \"http://twitter.com/search?q=Lambeau\",\n",
      "   \"promoted_content\": null,\n",
      "   \"query\": \"Lambeau\",\n",
      "   \"tweet_volume\": 27221\n",
      "  },\n",
      "  {\n",
      "   \"name\": \"lockett\",\n",
      "   \"url\": \"http://twitter.com/search?q=lockett\",\n",
      "   \"promoted_content\": null,\n",
      "   \"query\": \"lockett\",\n",
      "   \"tweet_volume\": null\n",
      "  },\n",
      "  {\n",
      "   \"name\": \"Turner\",\n",
      "   \"url\": \"http://twitter.com/search?q=Turner\",\n",
      "   \"promoted_content\": null,\n",
      "   \"query\": \"Turner\",\n",
      "   \"tweet_volume\": 18913\n",
      "  },\n",
      "  {\n",
      "   \"name\": \"Beast Mode\",\n",
      "   \"url\": \"http://twitter.com/search?q=%22Beast+Mode%22\",\n",
      "   \"promoted_content\": null,\n",
      "   \"query\": \"%22Beast+Mode%22\",\n",
      "   \"tweet_volume\": null\n",
      "  },\n",
      "  {\n",
      "   \"name\": \"#HardToKill\",\n",
      "   \"url\": \"http://twitter.com/search?q=%23HardToKill\",\n",
      "   \"promoted_content\": null,\n",
      "   \"query\": \"%23HardToKill\",\n",
      "   \"tweet_volume\": 12713\n",
      "  },\n",
      "  {\n",
      "   \"name\": \"#gohawks\",\n",
      "   \"url\": \"http://twitter.com/search?q=%23gohawks\",\n",
      "   \"promoted_content\": null,\n",
      "   \"query\": \"%23gohawks\",\n",
      "   \"tweet_volume\": 23297\n",
      "  },\n",
      "  {\n",
      "   \"name\": \"#RHOA\",\n",
      "   \"url\": \"http://twitter.com/search?q=%23RHOA\",\n",
      "   \"promoted_content\": null,\n",
      "   \"query\": \"%23RHOA\",\n",
      "   \"tweet_volume\": 35087\n",
      "  },\n",
      "  {\n",
      "   \"name\": \"#gbvssea\",\n",
      "   \"url\": \"http://twitter.com/search?q=%23gbvssea\",\n",
      "   \"promoted_content\": null,\n",
      "   \"query\": \"%23gbvssea\",\n",
      "   \"tweet_volume\": null\n",
      "  },\n",
      "  {\n",
      "   \"name\": \"#CriticsChoice\",\n",
      "   \"url\": \"http://twitter.com/search?q=%23CriticsChoice\",\n",
      "   \"promoted_content\": null,\n",
      "   \"query\": \"%23CriticsChoice\",\n",
      "   \"tweet_volume\": 134107\n",
      "  },\n",
      "  {\n",
      "   \"name\": \"#YIAYapp\",\n",
      "   \"url\": \"http://twitter.com/search?q=%23YIAYapp\",\n",
      "   \"promoted_content\": null,\n",
      "   \"query\": \"%23YIAYapp\",\n",
      "   \"tweet_volume\": null\n",
      "  },\n",
      "  {\n",
      "   \"name\": \"#TORvsFLA\",\n",
      "   \"url\": \"http://twitter.com/search?q=%23TORvsFLA\",\n",
      "   \"promoted_content\": null,\n",
      "   \"query\": \"%23TORvsFLA\",\n",
      "   \"tweet_volume\": null\n",
      "  },\n",
      "  {\n",
      "   \"name\": \"#NFCChampionship\",\n",
      "   \"url\": \"http://twitter.com/search?q=%23NFCChampionship\",\n",
      "   \"promoted_content\": null,\n",
      "   \"query\": \"%23NFCChampionship\",\n",
      "   \"tweet_volume\": null\n",
      "  },\n",
      "  {\n",
      "   \"name\": \"#celebration2020\",\n",
      "   \"url\": \"http://twitter.com/search?q=%23celebration2020\",\n",
      "   \"promoted_content\": null,\n",
      "   \"query\": \"%23celebration2020\",\n",
      "   \"tweet_volume\": null\n",
      "  },\n",
      "  {\n",
      "   \"name\": \"#halloffame\",\n",
      "   \"url\": \"http://twitter.com/search?q=%23halloffame\",\n",
      "   \"promoted_content\": null,\n",
      "   \"query\": \"%23halloffame\",\n",
      "   \"tweet_volume\": null\n",
      "  },\n",
      "  {\n",
      "   \"name\": \"#Tokyo2020\",\n",
      "   \"url\": \"http://twitter.com/search?q=%23Tokyo2020\",\n",
      "   \"promoted_content\": null,\n",
      "   \"query\": \"%23Tokyo2020\",\n",
      "   \"tweet_volume\": 27352\n",
      "  },\n",
      "  {\n",
      "   \"name\": \"#SanditonPBS\",\n",
      "   \"url\": \"http://twitter.com/search?q=%23SanditonPBS\",\n",
      "   \"promoted_content\": null,\n",
      "   \"query\": \"%23SanditonPBS\",\n",
      "   \"tweet_volume\": null\n",
      "  },\n",
      "  {\n",
      "   \"name\": \"#LoveIsland\",\n",
      "   \"url\": \"http://twitter.com/search?q=%23LoveIsland\",\n",
      "   \"promoted_content\": null,\n",
      "   \"query\": \"%23LoveIsland\",\n",
      "   \"tweet_volume\": 342006\n",
      "  },\n",
      "  {\n",
      "   \"name\": \"#hometownhockey\",\n",
      "   \"url\": \"http://twitter.com/search?q=%23hometownhockey\",\n",
      "   \"promoted_content\": null,\n",
      "   \"query\": \"%23hometownhockey\",\n",
      "   \"tweet_volume\": null\n",
      "  }\n",
      " ],\n",
      " \"as_of\": \"2020-01-13T03:46:17Z\",\n",
      " \"created_at\": \"2020-01-13T03:39:10Z\",\n",
      " \"locations\": [\n",
      "  {\n",
      "   \"name\": \"Toronto\",\n",
      "   \"woeid\": 4118\n",
      "  }\n",
      " ]\n",
      "}\n"
     ]
    }
   ],
   "source": [
    "import json\n",
    "\n",
    "print((json.dumps(local_trends[0], indent=1)))"
   ]
  },
  {
   "cell_type": "markdown",
   "metadata": {},
   "source": [
    "Lets look at the current interections between trends in Toronto and the world overall"
   ]
  },
  {
   "cell_type": "code",
   "execution_count": 13,
   "metadata": {},
   "outputs": [],
   "source": [
    "# Create a dict to store sets\n",
    "trends_set = {}\n",
    "trends_set['world'] = set([trend['name'] for trend in world_trends[0]['trends']])\n",
    "\n",
    "trends_set['canada'] = set([trend['name'] for trend in canada_trends[0]['trends']]) \n",
    "\n",
    "trends_set['toronto'] = set([trend['name'] for trend in local_trends[0]['trends']]) "
   ]
  },
  {
   "cell_type": "code",
   "execution_count": 14,
   "metadata": {
    "scrolled": true
   },
   "outputs": [
    {
     "data": {
      "text/plain": [
       "{'#90DayFiance',\n",
       " '#AlaskaHappyHour',\n",
       " '#BlocoDaFavorita',\n",
       " '#ChiefsKingdom',\n",
       " '#CriticsChoice',\n",
       " '#DidntLiveUpToTheHype',\n",
       " '#DuelosLaAcademia',\n",
       " '#GoPackGo',\n",
       " '#HappyLohri',\n",
       " '#HardToKill',\n",
       " '#KCvsHOU',\n",
       " '#LoveIsland',\n",
       " '#OTGala0',\n",
       " '#PSSSPSPSPSSSSPSPSPS_FOR_CHEN',\n",
       " '#RHOA',\n",
       " '#SemangatYaKamu',\n",
       " '#TaalEruption2020',\n",
       " '#TheOutsiderHBO',\n",
       " '#VivaTeleSUR',\n",
       " '#YIAYapp',\n",
       " '#bring_back_NEWX1',\n",
       " '#mondaythoughts',\n",
       " '#عشان_هالبرد_نحتاج',\n",
       " '#あなたをBLキャラ化',\n",
       " '#今のパソコン何代目',\n",
       " '#魚の名前クイズ',\n",
       " '3 SÉRIES',\n",
       " 'Aaron Rodgers',\n",
       " 'Adams',\n",
       " \"Bill O'Brien\",\n",
       " 'GO PACK GO',\n",
       " 'Green Bay',\n",
       " 'Hall of Fame',\n",
       " 'Jimmy Graham',\n",
       " 'Jimmy Johnson',\n",
       " 'Lambeau',\n",
       " 'Mahomes',\n",
       " 'Malik Turner',\n",
       " 'Marshawn Lynch',\n",
       " 'NFC Championship',\n",
       " 'Pete Carroll',\n",
       " 'Pledis',\n",
       " 'Preston Smith',\n",
       " 'Seahawks',\n",
       " 'Texans',\n",
       " 'Tre Flowers',\n",
       " 'Troy Aikman',\n",
       " 'Yellow Weasel',\n",
       " '新成人',\n",
       " '桃田選手'}"
      ]
     },
     "execution_count": 14,
     "metadata": {},
     "output_type": "execute_result"
    }
   ],
   "source": [
    "trends_set['world']"
   ]
  },
  {
   "cell_type": "code",
   "execution_count": 15,
   "metadata": {
    "scrolled": true
   },
   "outputs": [
    {
     "name": "stdout",
     "output_type": "stream",
     "text": [
      "('----------', 'world')\n",
      "Adams,NFC Championship,#魚の名前クイズ,Jimmy Johnson,Aaron Rodgers,#VivaTeleSUR,#LoveIsland,Lambeau,Pete Carroll,Texans,Green Bay,GO PACK GO,Bill O'Brien,#OTGala0,Yellow Weasel,#KCvsHOU,#SemangatYaKamu,#DidntLiveUpToTheHype,Troy Aikman,Seahawks,3 SÉRIES,#mondaythoughts,#bring_back_NEWX1,Jimmy Graham,Marshawn Lynch,#YIAYapp,#HappyLohri,#TheOutsiderHBO,#今のパソコン何代目,#GoPackGo,#HardToKill,#TaalEruption2020,Tre Flowers,#ChiefsKingdom,#PSSSPSPSPSSSSPSPSPS_FOR_CHEN,Mahomes,#عشان_هالبرد_نحتاج,#BlocoDaFavorita,#CriticsChoice,Hall of Fame,Malik Turner,#あなたをBLキャラ化,新成人,Preston Smith,桃田選手,#DuelosLaAcademia,Pledis,#RHOA,#90DayFiance,#AlaskaHappyHour\n",
      "('----------', 'toronto')\n",
      "Michael McCain,Jimmy Johnson,Aaron Rodgers,#hometownhockey,#LoveIsland,Lambeau,Greg Millen,Pete Carroll,Clowney,#gohawks,Maple Leaf Foods,#halloffame,Green Bay,Tyson Barrie,#SisterWives,Yellow Weasel,#Tokyo2020,#DidntLiveUpToTheHype,#SEAvsGB,Troy Aikman,Turner,#TORvsFLA,#gbvssea,#celebration2020,The Outsider,#SanditonPBS,Jimmy Graham,#NFCChampionship,Marshawn Lynch,Lynette,#YIAYapp,Shero,#GoPackGo,#HardToKill,Hutchinson,derozan,Packers,mccaw,Zach Hyman,#CriticsChoice,Jonathan Huberdeau,Mr. McCain,DeMar,Russell Wilson,lockett,Mursel,Siakam,Beast Mode,#RHOA,#90DayFiance\n",
      "('----------', 'canada')\n",
      "Michael McCain,Jimmy Johnson,Aaron Rodgers,#hometownhockey,#LoveIsland,Lambeau,#FlaPanthers,Greg Millen,Pete Carroll,Clowney,Maple Leaf Foods,#halloffame,Green Bay,Tyson Barrie,#SisterWives,Yellow Weasel,#Tokyo2020,#DidntLiveUpToTheHype,#SEAvsGB,Troy Aikman,Turner,#TORvsFLA,#gbvssea,#celebration2020,The Outsider,#SanditonPBS,Jimmy Graham,#NFCChampionship,Marshawn Lynch,Lynette,#YIAYapp,Shero,#GoPackGo,#HardToKill,Hutchinson,derozan,mccaw,#GoHawks,Zach Hyman,#CriticsChoice,Jonathan Huberdeau,DeMar,Russell Wilson,lockett,Mursel,Siakam,Beast Mode,Cody Ceci,#RHOA,#90DayFiance\n"
     ]
    }
   ],
   "source": [
    "for loc in ['world','toronto','canada']:\n",
    "    print(('-'*10,loc))\n",
    "    print((','.join(trends_set[loc])))"
   ]
  },
  {
   "cell_type": "markdown",
   "metadata": {},
   "source": [
    "Lets look at an interection between these trends, these topics are trending both locally and globally!"
   ]
  },
  {
   "cell_type": "code",
   "execution_count": 16,
   "metadata": {},
   "outputs": [
    {
     "name": "stdout",
     "output_type": "stream",
     "text": [
      "('==========', 'intersection of world and toronto')\n",
      "{'Green Bay', 'Marshawn Lynch', '#GoPackGo', 'Yellow Weasel', '#HardToKill', '#90DayFiance', '#DidntLiveUpToTheHype', 'Jimmy Johnson', 'Troy Aikman', 'Aaron Rodgers', '#LoveIsland', 'Lambeau', '#RHOA', '#CriticsChoice', 'Jimmy Graham', 'Pete Carroll', '#YIAYapp'}\n"
     ]
    }
   ],
   "source": [
    "print(( '='*10,'intersection of world and toronto'))\n",
    "print((trends_set['world'].intersection(trends_set['toronto'])))"
   ]
  },
  {
   "cell_type": "code",
   "execution_count": 17,
   "metadata": {},
   "outputs": [
    {
     "name": "stdout",
     "output_type": "stream",
     "text": [
      "('==========', 'intersection of canada and toronto')\n",
      "{'Michael McCain', 'Jimmy Johnson', 'Aaron Rodgers', '#hometownhockey', '#LoveIsland', 'Lambeau', 'Greg Millen', 'Pete Carroll', 'Clowney', 'Maple Leaf Foods', '#halloffame', 'Green Bay', 'Tyson Barrie', '#SisterWives', 'Yellow Weasel', '#Tokyo2020', '#DidntLiveUpToTheHype', '#SEAvsGB', 'Troy Aikman', 'Turner', '#TORvsFLA', '#gbvssea', '#celebration2020', 'The Outsider', '#SanditonPBS', 'Jimmy Graham', '#NFCChampionship', 'Marshawn Lynch', 'Lynette', '#YIAYapp', 'Shero', '#GoPackGo', '#HardToKill', 'Hutchinson', 'derozan', 'mccaw', 'Zach Hyman', '#CriticsChoice', 'Jonathan Huberdeau', 'DeMar', 'Russell Wilson', 'lockett', 'Mursel', 'Siakam', 'Beast Mode', '#RHOA', '#90DayFiance'}\n"
     ]
    }
   ],
   "source": [
    "print(( '='*10,'intersection of canada and toronto'))\n",
    "print((trends_set['canada'].intersection(trends_set['toronto'])))"
   ]
  },
  {
   "cell_type": "markdown",
   "metadata": {},
   "source": [
    "# Streaming Tweets\n",
    "Now lets stream tweets regarding a trending topic on twitter"
   ]
  },
  {
   "cell_type": "code",
   "execution_count": 83,
   "metadata": {},
   "outputs": [],
   "source": [
    "q = 'Toronto' \n",
    "\n",
    "number = 100\n",
    "\n",
    "# https://developer.twitter.com/en/docs/tweets/search/FAQ\n",
    "\n",
    "search_results = twitter_api.search.tweets(q=q, count=number, lang = 'en')\n",
    "\n",
    "statuses = search_results['statuses']"
   ]
  },
  {
   "cell_type": "code",
   "execution_count": 84,
   "metadata": {},
   "outputs": [
    {
     "data": {
      "text/plain": [
       "dict_keys(['statuses', 'search_metadata'])"
      ]
     },
     "execution_count": 84,
     "metadata": {},
     "output_type": "execute_result"
    }
   ],
   "source": [
    "search_results.keys()"
   ]
  },
  {
   "cell_type": "code",
   "execution_count": 85,
   "metadata": {},
   "outputs": [
    {
     "data": {
      "text/plain": [
       "dict_keys(['created_at', 'id', 'id_str', 'text', 'truncated', 'entities', 'metadata', 'source', 'in_reply_to_status_id', 'in_reply_to_status_id_str', 'in_reply_to_user_id', 'in_reply_to_user_id_str', 'in_reply_to_screen_name', 'user', 'geo', 'coordinates', 'place', 'contributors', 'retweeted_status', 'is_quote_status', 'retweet_count', 'favorite_count', 'favorited', 'retweeted', 'lang'])"
      ]
     },
     "execution_count": 85,
     "metadata": {},
     "output_type": "execute_result"
    }
   ],
   "source": [
    "# These are the list of keys stored in each dict of the status results\n",
    "# I'm interested in extracting what people are saying which is in 'text' field \n",
    "statuses[0].keys()"
   ]
  },
  {
   "cell_type": "code",
   "execution_count": 86,
   "metadata": {
    "scrolled": true
   },
   "outputs": [
    {
     "data": {
      "text/plain": [
       "{'created_at': 'Mon Jan 13 04:00:29 +0000 2020',\n",
       " 'id': 1216570686220787712,\n",
       " 'id_str': '1216570686220787712',\n",
       " 'text': 'RT @TheNBACentral: DeMar DeRozan got the win in Toronto 🔥\\n\\n25 points \\n8 rebounds \\n4 assists \\n2 steals \\n58% FG\\n\\nLast 5 games \\n36 PTS - 9 REB…',\n",
       " 'truncated': False,\n",
       " 'entities': {'hashtags': [],\n",
       "  'symbols': [],\n",
       "  'user_mentions': [{'screen_name': 'TheNBACentral',\n",
       "    'name': 'NBA Central',\n",
       "    'id': 1548977419,\n",
       "    'id_str': '1548977419',\n",
       "    'indices': [3, 17]}],\n",
       "  'urls': []},\n",
       " 'metadata': {'iso_language_code': 'en', 'result_type': 'recent'},\n",
       " 'source': '<a href=\"http://twitter.com/download/android\" rel=\"nofollow\">Twitter for Android</a>',\n",
       " 'in_reply_to_status_id': None,\n",
       " 'in_reply_to_status_id_str': None,\n",
       " 'in_reply_to_user_id': None,\n",
       " 'in_reply_to_user_id_str': None,\n",
       " 'in_reply_to_screen_name': None,\n",
       " 'user': {'id': 604090193,\n",
       "  'id_str': '604090193',\n",
       "  'name': 'this is not juan',\n",
       "  'screen_name': 'JRiojas56',\n",
       "  'location': 'Pasadena, TX',\n",
       "  'description': 'Amateur Film photographer 📸',\n",
       "  'url': None,\n",
       "  'entities': {'description': {'urls': []}},\n",
       "  'protected': False,\n",
       "  'followers_count': 192,\n",
       "  'friends_count': 858,\n",
       "  'listed_count': 0,\n",
       "  'created_at': 'Sun Jun 10 01:52:14 +0000 2012',\n",
       "  'favourites_count': 12886,\n",
       "  'utc_offset': None,\n",
       "  'time_zone': None,\n",
       "  'geo_enabled': True,\n",
       "  'verified': False,\n",
       "  'statuses_count': 3673,\n",
       "  'lang': None,\n",
       "  'contributors_enabled': False,\n",
       "  'is_translator': False,\n",
       "  'is_translation_enabled': False,\n",
       "  'profile_background_color': 'C0DEED',\n",
       "  'profile_background_image_url': 'http://abs.twimg.com/images/themes/theme1/bg.png',\n",
       "  'profile_background_image_url_https': 'https://abs.twimg.com/images/themes/theme1/bg.png',\n",
       "  'profile_background_tile': False,\n",
       "  'profile_image_url': 'http://pbs.twimg.com/profile_images/1206795955925860352/_ocKsWVK_normal.jpg',\n",
       "  'profile_image_url_https': 'https://pbs.twimg.com/profile_images/1206795955925860352/_ocKsWVK_normal.jpg',\n",
       "  'profile_banner_url': 'https://pbs.twimg.com/profile_banners/604090193/1571361850',\n",
       "  'profile_link_color': '1DA1F2',\n",
       "  'profile_sidebar_border_color': 'C0DEED',\n",
       "  'profile_sidebar_fill_color': 'DDEEF6',\n",
       "  'profile_text_color': '333333',\n",
       "  'profile_use_background_image': True,\n",
       "  'has_extended_profile': True,\n",
       "  'default_profile': True,\n",
       "  'default_profile_image': False,\n",
       "  'following': False,\n",
       "  'follow_request_sent': False,\n",
       "  'notifications': False,\n",
       "  'translator_type': 'none'},\n",
       " 'geo': None,\n",
       " 'coordinates': None,\n",
       " 'place': None,\n",
       " 'contributors': None,\n",
       " 'retweeted_status': {'created_at': 'Mon Jan 13 01:30:05 +0000 2020',\n",
       "  'id': 1216532837844897792,\n",
       "  'id_str': '1216532837844897792',\n",
       "  'text': 'DeMar DeRozan got the win in Toronto 🔥\\n\\n25 points \\n8 rebounds \\n4 assists \\n2 steals \\n58% FG\\n\\nLast 5 games \\n36 PTS -… https://t.co/iGx4E84kiu',\n",
       "  'truncated': True,\n",
       "  'entities': {'hashtags': [],\n",
       "   'symbols': [],\n",
       "   'user_mentions': [],\n",
       "   'urls': [{'url': 'https://t.co/iGx4E84kiu',\n",
       "     'expanded_url': 'https://twitter.com/i/web/status/1216532837844897792',\n",
       "     'display_url': 'twitter.com/i/web/status/1…',\n",
       "     'indices': [116, 139]}]},\n",
       "  'metadata': {'iso_language_code': 'en', 'result_type': 'recent'},\n",
       "  'source': '<a href=\"http://twitter.com/download/iphone\" rel=\"nofollow\">Twitter for iPhone</a>',\n",
       "  'in_reply_to_status_id': None,\n",
       "  'in_reply_to_status_id_str': None,\n",
       "  'in_reply_to_user_id': None,\n",
       "  'in_reply_to_user_id_str': None,\n",
       "  'in_reply_to_screen_name': None,\n",
       "  'user': {'id': 1548977419,\n",
       "   'id_str': '1548977419',\n",
       "   'name': 'NBA Central',\n",
       "   'screen_name': 'TheNBACentral',\n",
       "   'location': '',\n",
       "   'description': 'Featured on @ESPN, @FOXSports, @SINow, @YahooSports, + others | Not associated with the National Basketball Association| DM for promo |',\n",
       "   'url': 'https://t.co/iKUnGJGg1r',\n",
       "   'entities': {'url': {'urls': [{'url': 'https://t.co/iKUnGJGg1r',\n",
       "       'expanded_url': 'https://twitter.com/thenbacentral',\n",
       "       'display_url': 'twitter.com/thenbacentral',\n",
       "       'indices': [0, 23]}]},\n",
       "    'description': {'urls': []}},\n",
       "   'protected': False,\n",
       "   'followers_count': 141795,\n",
       "   'friends_count': 114,\n",
       "   'listed_count': 1210,\n",
       "   'created_at': 'Wed Jun 26 19:43:48 +0000 2013',\n",
       "   'favourites_count': 1154,\n",
       "   'utc_offset': None,\n",
       "   'time_zone': None,\n",
       "   'geo_enabled': True,\n",
       "   'verified': False,\n",
       "   'statuses_count': 16487,\n",
       "   'lang': None,\n",
       "   'contributors_enabled': False,\n",
       "   'is_translator': False,\n",
       "   'is_translation_enabled': False,\n",
       "   'profile_background_color': '131516',\n",
       "   'profile_background_image_url': 'http://abs.twimg.com/images/themes/theme14/bg.gif',\n",
       "   'profile_background_image_url_https': 'https://abs.twimg.com/images/themes/theme14/bg.gif',\n",
       "   'profile_background_tile': True,\n",
       "   'profile_image_url': 'http://pbs.twimg.com/profile_images/738609776762834945/K4srNVBq_normal.jpg',\n",
       "   'profile_image_url_https': 'https://pbs.twimg.com/profile_images/738609776762834945/K4srNVBq_normal.jpg',\n",
       "   'profile_banner_url': 'https://pbs.twimg.com/profile_banners/1548977419/1562617390',\n",
       "   'profile_link_color': '009999',\n",
       "   'profile_sidebar_border_color': 'EEEEEE',\n",
       "   'profile_sidebar_fill_color': 'EFEFEF',\n",
       "   'profile_text_color': '333333',\n",
       "   'profile_use_background_image': True,\n",
       "   'has_extended_profile': False,\n",
       "   'default_profile': False,\n",
       "   'default_profile_image': False,\n",
       "   'following': False,\n",
       "   'follow_request_sent': False,\n",
       "   'notifications': False,\n",
       "   'translator_type': 'none'},\n",
       "  'geo': None,\n",
       "  'coordinates': None,\n",
       "  'place': None,\n",
       "  'contributors': None,\n",
       "  'is_quote_status': False,\n",
       "  'retweet_count': 101,\n",
       "  'favorite_count': 473,\n",
       "  'favorited': False,\n",
       "  'retweeted': False,\n",
       "  'possibly_sensitive': False,\n",
       "  'lang': 'en'},\n",
       " 'is_quote_status': False,\n",
       " 'retweet_count': 101,\n",
       " 'favorite_count': 0,\n",
       " 'favorited': False,\n",
       " 'retweeted': False,\n",
       " 'lang': 'en'}"
      ]
     },
     "execution_count": 86,
     "metadata": {},
     "output_type": "execute_result"
    }
   ],
   "source": [
    "statuses[1]"
   ]
  },
  {
   "cell_type": "code",
   "execution_count": 87,
   "metadata": {},
   "outputs": [],
   "source": [
    "# First lets remove any duplicated results\n",
    "\n",
    "all_text = []\n",
    "filtered_statuses = []\n",
    "for s in statuses:\n",
    "    if not s[\"text\"] in all_text:\n",
    "        filtered_statuses.append(s)\n",
    "        all_text.append(s[\"text\"])\n",
    "statuses = filtered_statuses     "
   ]
  },
  {
   "cell_type": "code",
   "execution_count": 88,
   "metadata": {},
   "outputs": [
    {
     "data": {
      "text/plain": [
       "71"
      ]
     },
     "execution_count": 88,
     "metadata": {},
     "output_type": "execute_result"
    }
   ],
   "source": [
    "# number of unique statuses\n",
    "len(statuses)"
   ]
  },
  {
   "cell_type": "code",
   "execution_count": 89,
   "metadata": {},
   "outputs": [],
   "source": [
    "status_list = [s['text'] for s in statuses]"
   ]
  },
  {
   "cell_type": "code",
   "execution_count": 90,
   "metadata": {
    "scrolled": true
   },
   "outputs": [
    {
     "data": {
      "text/plain": [
       "['RT @AP: The government of Ontario sent an alert to residents\\' cellphones reporting an unspecified \"incident\" at a nuclear power plant near…',\n",
       " 'RT @TheNBACentral: DeMar DeRozan got the win in Toronto 🔥\\n\\n25 points \\n8 rebounds \\n4 assists \\n2 steals \\n58% FG\\n\\nLast 5 games \\n36 PTS - 9 REB…',\n",
       " \"The vote is in as 4 more #hockey players were added to the NHL All-Star Game: Toronto's Mitch Marner, Washington Ca… https://t.co/ckdnnbIIIx\",\n",
       " 'The Toronto Maple Leafs and Florida Panthers are the only teams since the 2004-05 lockout to not win a playoff seri… https://t.co/SPnFKrqKf5',\n",
       " '@business HI Maple leaf school,Happy new year,how is my brother \\n\\nToronto,Cambridge university',\n",
       " 'CONTEST: Win tickets to A Musical Banquet: A Feast of Sumptuous Classical Music https://t.co/1pE3UVfPG6 #Toronto… https://t.co/TPJgIle4FN',\n",
       " 'RT @Bmtgg4: @MapleLeafFoods The 2008 Canadian listeriosis outbreak was a widespread outbreak of listeriosis in Canada linked to cold cuts f…',\n",
       " '11:00 pm Sunday January 12, 2020',\n",
       " 'RT @NastaciawithaC: We got: 1m tweets with #renewannewithane in less than 24 hours, now more than 7m tweets with the same # and over 15m wi…',\n",
       " 'RT @itsTanyaSam: I can’t believe I missed all this drama!!! 😳I thought the night was done so I stayed behind at the rooftop party to hang w…',\n",
       " 'RT @ONScreenings: Free Advance Screening of Bad Boys for Life @BadBoys in Toronto, ON via @exclaimdotca (Contest) https://t.co/KAGx4mYM26',\n",
       " 'Free Advance Screening of Bad Boys for Life @BadBoys in Toronto, ON via @exclaimdotca (Contest) https://t.co/KAGx4mYM26',\n",
       " 'People throughout Ontario awoke Sunday to a cellphone alert warning them of an “incident” at a nuclear plant just e… https://t.co/TU5rlvwCyC',\n",
       " \"A Canadian government worker testing Ontario's emergency alert system accidentally sent a notice warning people thr… https://t.co/YYGsNHtl9Z\",\n",
       " \"RT @MadTheDJ: Walked over to see the the famous #awaebillboard at Yonge &amp; Dundas Square, Toronto. \\nIt's animated! She sheds a single tear.…\",\n",
       " \"RT @MuhammadLila: I'm at a memorial service in Toronto for two victims of the Iran plane crash.\\n\\nI've covered funerals around the world.\\n\\nI…\",\n",
       " '@barryzuckerkorn Basically all of Toronto is in the zone to get these too 🤙',\n",
       " 'RT @thebrianposehn: Fuck this timeline. Definition of gut punched.  I feel like I just lost my cool uncle. My cool uncle that was also the…',\n",
       " '@NiallOfficial I AM! see you in Toronto!!',\n",
       " 'RT @WorldWideWob: listen we joke a lot on here with poster dunks and what not but the degree of violence which just occurred in Toronto, co…',\n",
       " 'RT @VKankeri: Flying from Toronto to Dubai. I was very happy to meet a Kannadiga who was reading Bhairappa’s ‘Bhitti’ on board. He talked a…',\n",
       " 'RT @WorldWideWob: DeMar DeRozan back in Toronto just packed one on Chris Boucher. My god. https://t.co/hEn8KAw7mB',\n",
       " 'I wanna go to carnival in Toronto this year 😩',\n",
       " \"RT @theKatrinnaBlue: I booked one of my favorite photographers in Toronto! Here's one of my outfit ideas ! Found the t shirt second hand (F…\",\n",
       " '@xc8lyn when tf are u gonna come to toronto caitlyn',\n",
       " 'RT @yearslisa: Our billboards are up! They are appearing about every two minutes or so, so if you’re near Toronto come check them out! We h…',\n",
       " 'every artist overseas but not one in toronto.... telling https://t.co/67N9sCQFYe',\n",
       " 'When you live and work in #Toronto #Canada......you are #inspired to be your best 👍🇨🇦😉 https://t.co/nuyYqZQfOK',\n",
       " '@springflowersvt @svtechinc I love how we say were broke but if svt pulled up to toronto and announced a concert to… https://t.co/5ZvnIj9xSL',\n",
       " 'RT @wiltedspace: Hold on... Moira didnʼt say she will travel to Toronto specifically for the billboard so what if she has some business to…',\n",
       " 'every girl from toronto got a dm from this weirdo https://t.co/QjzO9zmtYN',\n",
       " 'In the words of Toronto’s best poet Drake,  \\u2063\\n\\u2063\\n🖤“Life Is Good.”🖤 -@Drake\\u2063\\n\\u2063\\nThank you to all my Toronto family and… https://t.co/LfhCIcIk7i',\n",
       " 'RT @tundratex: “Some products sold out within one or two hours,” Lana Paraskevopoulos, general manager of Canvas Cannabis, told the Toronto…',\n",
       " 'RT @meywithane: -We have almost 11 mil tweets on all tags combined, with 7 mil being on  #renewannewithane \\n-D+ said they’ve had 15 mil req…',\n",
       " '#NowPlaying One Bad Son - Scream For Me #Radio #Rock #Toronto',\n",
       " '@libbycwatson My wife and I went to townhome listing in Toronto that had listed the 2nd floor landing as a bedroom,… https://t.co/T97hiZOCVr',\n",
       " 'Toronto guys be like: \\n\"i seen ur likkle tweet!\" \\n\\nLOL... okay anddd? https://t.co/IxZvnnQrIk',\n",
       " '@ImpatienTourist Lol I read it in a Toronto shorty’s voice',\n",
       " 'RT @Darke_Sister: Okay she still had a wig on in Toronto though😂😂😂',\n",
       " 'RT @DymentRoy: Why does anyone in Toronto need a hatchet?  - John Tory https://t.co/b0DVCdol9z',\n",
       " 'Toronto Raptors 104 (Sergei Ibaka 21 pts, 14 rebs, Kyle Lowry 16 pts, 15 asists) San Antonio Spurs 105 (DeMar DeRoz… https://t.co/uVYHOZAau8',\n",
       " '@superm don’t forget Toronto 🇨🇦🇨🇦🇨🇦🇨🇦',\n",
       " 'Just wanna move to Toronto with @aditishth',\n",
       " 'RT @KenFZill: @MapleLeafFoods Wiki: The 2008 Canadian listeriosis outbreak was a widespread outbreak of listeriosis in Canada linked to col…',\n",
       " 'Hundreds attend #Toronto memorial service for victims of #UkrainianPlaneCrash https://t.co/qzQUpJPbjF',\n",
       " '@zaynilla KFMSOFKROT i live on a farm and say im from toronto too hes following my trend',\n",
       " 'Mirage Toronto\\n——————————————\\nFIRST DROP @ 12PM EST TOMORROW😤',\n",
       " 'RT @mo_norouzi: \"To honour the memory of those lost, the University of Toronto has established an Iranian Student Memorial Scholarship Fund…',\n",
       " 'A big shout out to @TorontoMGs for the fantastic 2020\\nTechnical Update held at Toronto Botanical Gardens on Saturda… https://t.co/BSUXe2ipjI',\n",
       " 'RT @AB_Hersi: Toronto niggas can hype up anything man I’m convinced. I’m in Shoppers buying a big 4L water jug and this guy says “yo are yo…',\n",
       " 'RT @blogTO: 50 essential Toronto live music venues https://t.co/3mHqLSntFT #Toronto https://t.co/FO3svOjzxX',\n",
       " 'RT @CFL_Headlines: Swedish defensive back William James earns invite to main CFL combine: Defensive back William James has\\xa0been extended an…',\n",
       " 'RT @WalderSports: There’s no such thing as too many DeMar DeRozan video tributes in Toronto. \\n\\nHe’s a top-4 player in franchise history, an…',\n",
       " '@SacrificeBunts london and toronto. will be in montreal in the spring.',\n",
       " 'RT @bifnaked: Please keep an eye out for this poor #lostdog “River” in the #Toronto #etobicoke area🙏',\n",
       " \"RT @UraniumRedfox: IT'S TIME BOIS. \\n\\nI've always wanted a Toronto based Fallout game ☢ https://t.co/nhMMfgw0Va\",\n",
       " 'Better read fast, Steve, before all the hoopla starts if royalty moves to Toronto. No peace and quiet after that. B… https://t.co/h6ibjOyBQe',\n",
       " 'RT @WinstonSih: One thing I learned today, despite the erroneous emergency alert, is the fact that you can order potassium iodide pills to…',\n",
       " 'Speaking it into existence. I’m traveling this year.  Not sure where but internationally it’s between Medellin/Barc… https://t.co/5B061r8nBe',\n",
       " 'just did some mathematics and realized the vancouver and mexico city date are too close together for superm to stop… https://t.co/SWv1NuNr1l',\n",
       " 'False alarm sets off nuclear attack scare in Canada: An alert signaling an incident at a major nuclear power plant… https://t.co/fHVRcw2OxK',\n",
       " 'RT @JeffVeillette: Well, we were all promised a Toronto-area nuclear meltdown this morning, and I gotta say, the Leafs delivered that in th…',\n",
       " 'Now Playing: We Are Young (feat. Janelle Monáe) by Fun.. https://t.co/gCdjI2V0wy',\n",
       " 'Maybe only you. Seeing that you live in Toronto whats the big deal? and your tweet was 13 hours after the fact.....… https://t.co/ECWOWAxUJK',\n",
       " \"RT @FluffyHowL: Wanted to start off 2020 in a very fluffy way!\\nCan't wait to see what the future holds and all it's great adventures! \\nA ne…\",\n",
       " 'Old VS New \\n\\n#Toronto #photograghy #upgrade https://t.co/G3O6YTqDTU',\n",
       " 'RT @toronto4kids: Twitter #Giveaway. Enter for a chance to #win 2 adult tickets to the Toronto Boat Show! Kids are free! To enter, Follow U…',\n",
       " \"@NiallOfficial I'll see you in Toronto 😊\",\n",
       " 'RT @laqerfeld: screenshots from the weeknd’s music video “secrets” filmed in the university of toronto and toronto reference library (2017)…',\n",
       " \"RT @inklessPW: meanwhile in Canada, there is growing concern that its taxpayers will be on the hook for some of the Royal couple's expenses…\",\n",
       " '@qsteph It’s my guilty pleasure. Toronto will never be the same.']"
      ]
     },
     "execution_count": 90,
     "metadata": {},
     "output_type": "execute_result"
    }
   ],
   "source": [
    "status_list"
   ]
  },
  {
   "cell_type": "code",
   "execution_count": 91,
   "metadata": {
    "scrolled": true
   },
   "outputs": [
    {
     "data": {
      "text/html": [
       "<div>\n",
       "<style scoped>\n",
       "    .dataframe tbody tr th:only-of-type {\n",
       "        vertical-align: middle;\n",
       "    }\n",
       "\n",
       "    .dataframe tbody tr th {\n",
       "        vertical-align: top;\n",
       "    }\n",
       "\n",
       "    .dataframe thead th {\n",
       "        text-align: right;\n",
       "    }\n",
       "</style>\n",
       "<table border=\"1\" class=\"dataframe\">\n",
       "  <thead>\n",
       "    <tr style=\"text-align: right;\">\n",
       "      <th></th>\n",
       "      <th>Recent Tweets about Toronto</th>\n",
       "    </tr>\n",
       "  </thead>\n",
       "  <tbody>\n",
       "    <tr>\n",
       "      <td>0</td>\n",
       "      <td>RT @AP: The government of Ontario sent an aler...</td>\n",
       "    </tr>\n",
       "    <tr>\n",
       "      <td>1</td>\n",
       "      <td>RT @TheNBACentral: DeMar DeRozan got the win i...</td>\n",
       "    </tr>\n",
       "    <tr>\n",
       "      <td>2</td>\n",
       "      <td>The vote is in as 4 more #hockey players were ...</td>\n",
       "    </tr>\n",
       "    <tr>\n",
       "      <td>3</td>\n",
       "      <td>The Toronto Maple Leafs and Florida Panthers a...</td>\n",
       "    </tr>\n",
       "    <tr>\n",
       "      <td>4</td>\n",
       "      <td>@business HI Maple leaf school,Happy new year,...</td>\n",
       "    </tr>\n",
       "    <tr>\n",
       "      <td>...</td>\n",
       "      <td>...</td>\n",
       "    </tr>\n",
       "    <tr>\n",
       "      <td>66</td>\n",
       "      <td>RT @toronto4kids: Twitter #Giveaway. Enter for...</td>\n",
       "    </tr>\n",
       "    <tr>\n",
       "      <td>67</td>\n",
       "      <td>@NiallOfficial I'll see you in Toronto 😊</td>\n",
       "    </tr>\n",
       "    <tr>\n",
       "      <td>68</td>\n",
       "      <td>RT @laqerfeld: screenshots from the weeknd’s m...</td>\n",
       "    </tr>\n",
       "    <tr>\n",
       "      <td>69</td>\n",
       "      <td>RT @inklessPW: meanwhile in Canada, there is g...</td>\n",
       "    </tr>\n",
       "    <tr>\n",
       "      <td>70</td>\n",
       "      <td>@qsteph It’s my guilty pleasure. Toronto will ...</td>\n",
       "    </tr>\n",
       "  </tbody>\n",
       "</table>\n",
       "<p>71 rows × 1 columns</p>\n",
       "</div>"
      ],
      "text/plain": [
       "                          Recent Tweets about Toronto\n",
       "0   RT @AP: The government of Ontario sent an aler...\n",
       "1   RT @TheNBACentral: DeMar DeRozan got the win i...\n",
       "2   The vote is in as 4 more #hockey players were ...\n",
       "3   The Toronto Maple Leafs and Florida Panthers a...\n",
       "4   @business HI Maple leaf school,Happy new year,...\n",
       "..                                                ...\n",
       "66  RT @toronto4kids: Twitter #Giveaway. Enter for...\n",
       "67           @NiallOfficial I'll see you in Toronto 😊\n",
       "68  RT @laqerfeld: screenshots from the weeknd’s m...\n",
       "69  RT @inklessPW: meanwhile in Canada, there is g...\n",
       "70  @qsteph It’s my guilty pleasure. Toronto will ...\n",
       "\n",
       "[71 rows x 1 columns]"
      ]
     },
     "execution_count": 91,
     "metadata": {},
     "output_type": "execute_result"
    }
   ],
   "source": [
    "# Store tweet texts in a pandas dataframe\n",
    "Topic = \"Recent Tweets about \" + q\n",
    "search_df = pd.DataFrame({Topic:status_list})\n",
    "search_df"
   ]
  },
  {
   "cell_type": "code",
   "execution_count": 92,
   "metadata": {},
   "outputs": [],
   "source": [
    "# Create a utility function for cleaning of tweets text\n",
    "\n",
    "def clean_text(tweet):\n",
    "    ''' Takes in text and removes any words in the useless list'''\n",
    "    useless = nltk.corpus.stopwords.words(\"english\") + list(string.punctuation)\n",
    "    t = tweet.split()\n",
    "    new_tweet = \"\"\n",
    "    garbage = ['RT', q,'I','the','it','a','The','It']\n",
    "    for word in t:\n",
    "        if not word in useless:\n",
    "            if word not in garbage:\n",
    "                new_tweet = new_tweet + word + \" \"\n",
    "    \n",
    "    return new_tweet"
   ]
  },
  {
   "cell_type": "code",
   "execution_count": 93,
   "metadata": {
    "scrolled": true
   },
   "outputs": [
    {
     "data": {
      "text/html": [
       "<div>\n",
       "<style scoped>\n",
       "    .dataframe tbody tr th:only-of-type {\n",
       "        vertical-align: middle;\n",
       "    }\n",
       "\n",
       "    .dataframe tbody tr th {\n",
       "        vertical-align: top;\n",
       "    }\n",
       "\n",
       "    .dataframe thead th {\n",
       "        text-align: right;\n",
       "    }\n",
       "</style>\n",
       "<table border=\"1\" class=\"dataframe\">\n",
       "  <thead>\n",
       "    <tr style=\"text-align: right;\">\n",
       "      <th></th>\n",
       "      <th>Recent Tweets about Toronto</th>\n",
       "      <th>Clean Tweet</th>\n",
       "    </tr>\n",
       "  </thead>\n",
       "  <tbody>\n",
       "    <tr>\n",
       "      <td>0</td>\n",
       "      <td>RT @AP: The government of Ontario sent an aler...</td>\n",
       "      <td>@AP: government Ontario sent alert residents' ...</td>\n",
       "    </tr>\n",
       "    <tr>\n",
       "      <td>1</td>\n",
       "      <td>RT @TheNBACentral: DeMar DeRozan got the win i...</td>\n",
       "      <td>@TheNBACentral: DeMar DeRozan got win 🔥 25 poi...</td>\n",
       "    </tr>\n",
       "    <tr>\n",
       "      <td>2</td>\n",
       "      <td>The vote is in as 4 more #hockey players were ...</td>\n",
       "      <td>vote 4 #hockey players added NHL All-Star Game...</td>\n",
       "    </tr>\n",
       "    <tr>\n",
       "      <td>3</td>\n",
       "      <td>The Toronto Maple Leafs and Florida Panthers a...</td>\n",
       "      <td>Maple Leafs Florida Panthers teams since 2004-...</td>\n",
       "    </tr>\n",
       "    <tr>\n",
       "      <td>4</td>\n",
       "      <td>@business HI Maple leaf school,Happy new year,...</td>\n",
       "      <td>@business HI Maple leaf school,Happy new year,...</td>\n",
       "    </tr>\n",
       "    <tr>\n",
       "      <td>...</td>\n",
       "      <td>...</td>\n",
       "      <td>...</td>\n",
       "    </tr>\n",
       "    <tr>\n",
       "      <td>66</td>\n",
       "      <td>RT @toronto4kids: Twitter #Giveaway. Enter for...</td>\n",
       "      <td>@toronto4kids: Twitter #Giveaway. Enter chance...</td>\n",
       "    </tr>\n",
       "    <tr>\n",
       "      <td>67</td>\n",
       "      <td>@NiallOfficial I'll see you in Toronto 😊</td>\n",
       "      <td>@NiallOfficial I'll see 😊</td>\n",
       "    </tr>\n",
       "    <tr>\n",
       "      <td>68</td>\n",
       "      <td>RT @laqerfeld: screenshots from the weeknd’s m...</td>\n",
       "      <td>@laqerfeld: screenshots weeknd’s music video “...</td>\n",
       "    </tr>\n",
       "    <tr>\n",
       "      <td>69</td>\n",
       "      <td>RT @inklessPW: meanwhile in Canada, there is g...</td>\n",
       "      <td>@inklessPW: meanwhile Canada, growing concern ...</td>\n",
       "    </tr>\n",
       "    <tr>\n",
       "      <td>70</td>\n",
       "      <td>@qsteph It’s my guilty pleasure. Toronto will ...</td>\n",
       "      <td>@qsteph It’s guilty pleasure. never same.</td>\n",
       "    </tr>\n",
       "  </tbody>\n",
       "</table>\n",
       "<p>71 rows × 2 columns</p>\n",
       "</div>"
      ],
      "text/plain": [
       "                          Recent Tweets about Toronto  \\\n",
       "0   RT @AP: The government of Ontario sent an aler...   \n",
       "1   RT @TheNBACentral: DeMar DeRozan got the win i...   \n",
       "2   The vote is in as 4 more #hockey players were ...   \n",
       "3   The Toronto Maple Leafs and Florida Panthers a...   \n",
       "4   @business HI Maple leaf school,Happy new year,...   \n",
       "..                                                ...   \n",
       "66  RT @toronto4kids: Twitter #Giveaway. Enter for...   \n",
       "67           @NiallOfficial I'll see you in Toronto 😊   \n",
       "68  RT @laqerfeld: screenshots from the weeknd’s m...   \n",
       "69  RT @inklessPW: meanwhile in Canada, there is g...   \n",
       "70  @qsteph It’s my guilty pleasure. Toronto will ...   \n",
       "\n",
       "                                          Clean Tweet  \n",
       "0   @AP: government Ontario sent alert residents' ...  \n",
       "1   @TheNBACentral: DeMar DeRozan got win 🔥 25 poi...  \n",
       "2   vote 4 #hockey players added NHL All-Star Game...  \n",
       "3   Maple Leafs Florida Panthers teams since 2004-...  \n",
       "4   @business HI Maple leaf school,Happy new year,...  \n",
       "..                                                ...  \n",
       "66  @toronto4kids: Twitter #Giveaway. Enter chance...  \n",
       "67                         @NiallOfficial I'll see 😊   \n",
       "68  @laqerfeld: screenshots weeknd’s music video “...  \n",
       "69  @inklessPW: meanwhile Canada, growing concern ...  \n",
       "70         @qsteph It’s guilty pleasure. never same.   \n",
       "\n",
       "[71 rows x 2 columns]"
      ]
     },
     "execution_count": 93,
     "metadata": {},
     "output_type": "execute_result"
    }
   ],
   "source": [
    "search_df['Clean Tweet'] = search_df[Topic].apply(clean_text)\n",
    "search_df"
   ]
  },
  {
   "cell_type": "code",
   "execution_count": 94,
   "metadata": {},
   "outputs": [
    {
     "name": "stdout",
     "output_type": "stream",
     "text": [
      "[('toronto', 6), ('#Toronto', 6), ('nuclear', 5), ('A', 5), ('one', 5), ('alert', 4), ('listeriosis', 4), ('outbreak', 4), ('see', 4), ('live', 4)]\n"
     ]
    },
    {
     "data": {
      "text/plain": [
       "collections.Counter"
      ]
     },
     "execution_count": 94,
     "metadata": {},
     "output_type": "execute_result"
    }
   ],
   "source": [
    "# Create a counter for the most common words \n",
    "# Counter takes in a list an creates a collection.counter object\n",
    "\n",
    "from collections import Counter\n",
    "\n",
    "words = []\n",
    "\n",
    "for item in search_df['Clean Tweet']:\n",
    "    for word in item.split():\n",
    "        words.append(word)\n",
    "\n",
    "c = Counter(words)\n",
    "\n",
    "print(c.most_common()[:10]) # top 10\n",
    "\n",
    "type(c)"
   ]
  },
  {
   "cell_type": "code",
   "execution_count": 95,
   "metadata": {
    "scrolled": true
   },
   "outputs": [
    {
     "data": {
      "text/plain": [
       "[('toronto', 6),\n",
       " ('#Toronto', 6),\n",
       " ('nuclear', 5),\n",
       " ('A', 5),\n",
       " ('one', 5),\n",
       " ('alert', 4),\n",
       " ('listeriosis', 4),\n",
       " ('outbreak', 4),\n",
       " ('see', 4),\n",
       " ('live', 4),\n",
       " ('DeMar', 3),\n",
       " ('DeRozan', 3),\n",
       " ('Canadian', 3),\n",
       " ('2020', 3),\n",
       " ('We', 3),\n",
       " ('tweets', 3),\n",
       " ('Bad', 3),\n",
       " ('Toronto,', 3),\n",
       " ('Toronto.', 3),\n",
       " ('two', 3)]"
      ]
     },
     "execution_count": 95,
     "metadata": {},
     "output_type": "execute_result"
    }
   ],
   "source": [
    "Top_words = c.most_common()[:20]\n",
    "Top_words"
   ]
  },
  {
   "cell_type": "code",
   "execution_count": 96,
   "metadata": {},
   "outputs": [
    {
     "data": {
      "text/plain": [
       "('toronto', 6)"
      ]
     },
     "execution_count": 96,
     "metadata": {},
     "output_type": "execute_result"
    }
   ],
   "source": [
    "Top_words.pop(0)"
   ]
  },
  {
   "cell_type": "code",
   "execution_count": 97,
   "metadata": {
    "scrolled": true
   },
   "outputs": [
    {
     "data": {
      "text/plain": [
       "[('#Toronto', 6),\n",
       " ('nuclear', 5),\n",
       " ('A', 5),\n",
       " ('one', 5),\n",
       " ('alert', 4),\n",
       " ('listeriosis', 4),\n",
       " ('outbreak', 4),\n",
       " ('see', 4),\n",
       " ('live', 4),\n",
       " ('DeMar', 3),\n",
       " ('DeRozan', 3),\n",
       " ('Canadian', 3),\n",
       " ('2020', 3),\n",
       " ('We', 3),\n",
       " ('tweets', 3),\n",
       " ('Bad', 3),\n",
       " ('Toronto,', 3),\n",
       " ('Toronto.', 3),\n",
       " ('two', 3)]"
      ]
     },
     "execution_count": 97,
     "metadata": {},
     "output_type": "execute_result"
    }
   ],
   "source": [
    "Top_words"
   ]
  },
  {
   "cell_type": "code",
   "execution_count": 98,
   "metadata": {
    "scrolled": true
   },
   "outputs": [
    {
     "data": {
      "text/html": [
       "<div>\n",
       "<style scoped>\n",
       "    .dataframe tbody tr th:only-of-type {\n",
       "        vertical-align: middle;\n",
       "    }\n",
       "\n",
       "    .dataframe tbody tr th {\n",
       "        vertical-align: top;\n",
       "    }\n",
       "\n",
       "    .dataframe thead th {\n",
       "        text-align: right;\n",
       "    }\n",
       "</style>\n",
       "<table border=\"1\" class=\"dataframe\">\n",
       "  <thead>\n",
       "    <tr style=\"text-align: right;\">\n",
       "      <th></th>\n",
       "      <th>0</th>\n",
       "      <th>1</th>\n",
       "    </tr>\n",
       "  </thead>\n",
       "  <tbody>\n",
       "    <tr>\n",
       "      <td>0</td>\n",
       "      <td>#Toronto</td>\n",
       "      <td>6</td>\n",
       "    </tr>\n",
       "    <tr>\n",
       "      <td>1</td>\n",
       "      <td>nuclear</td>\n",
       "      <td>5</td>\n",
       "    </tr>\n",
       "    <tr>\n",
       "      <td>2</td>\n",
       "      <td>A</td>\n",
       "      <td>5</td>\n",
       "    </tr>\n",
       "    <tr>\n",
       "      <td>3</td>\n",
       "      <td>one</td>\n",
       "      <td>5</td>\n",
       "    </tr>\n",
       "    <tr>\n",
       "      <td>4</td>\n",
       "      <td>alert</td>\n",
       "      <td>4</td>\n",
       "    </tr>\n",
       "    <tr>\n",
       "      <td>5</td>\n",
       "      <td>listeriosis</td>\n",
       "      <td>4</td>\n",
       "    </tr>\n",
       "    <tr>\n",
       "      <td>6</td>\n",
       "      <td>outbreak</td>\n",
       "      <td>4</td>\n",
       "    </tr>\n",
       "    <tr>\n",
       "      <td>7</td>\n",
       "      <td>see</td>\n",
       "      <td>4</td>\n",
       "    </tr>\n",
       "    <tr>\n",
       "      <td>8</td>\n",
       "      <td>live</td>\n",
       "      <td>4</td>\n",
       "    </tr>\n",
       "    <tr>\n",
       "      <td>9</td>\n",
       "      <td>DeMar</td>\n",
       "      <td>3</td>\n",
       "    </tr>\n",
       "    <tr>\n",
       "      <td>10</td>\n",
       "      <td>DeRozan</td>\n",
       "      <td>3</td>\n",
       "    </tr>\n",
       "    <tr>\n",
       "      <td>11</td>\n",
       "      <td>Canadian</td>\n",
       "      <td>3</td>\n",
       "    </tr>\n",
       "    <tr>\n",
       "      <td>12</td>\n",
       "      <td>2020</td>\n",
       "      <td>3</td>\n",
       "    </tr>\n",
       "    <tr>\n",
       "      <td>13</td>\n",
       "      <td>We</td>\n",
       "      <td>3</td>\n",
       "    </tr>\n",
       "    <tr>\n",
       "      <td>14</td>\n",
       "      <td>tweets</td>\n",
       "      <td>3</td>\n",
       "    </tr>\n",
       "    <tr>\n",
       "      <td>15</td>\n",
       "      <td>Bad</td>\n",
       "      <td>3</td>\n",
       "    </tr>\n",
       "    <tr>\n",
       "      <td>16</td>\n",
       "      <td>Toronto,</td>\n",
       "      <td>3</td>\n",
       "    </tr>\n",
       "    <tr>\n",
       "      <td>17</td>\n",
       "      <td>Toronto.</td>\n",
       "      <td>3</td>\n",
       "    </tr>\n",
       "    <tr>\n",
       "      <td>18</td>\n",
       "      <td>two</td>\n",
       "      <td>3</td>\n",
       "    </tr>\n",
       "  </tbody>\n",
       "</table>\n",
       "</div>"
      ],
      "text/plain": [
       "              0  1\n",
       "0      #Toronto  6\n",
       "1       nuclear  5\n",
       "2             A  5\n",
       "3           one  5\n",
       "4         alert  4\n",
       "5   listeriosis  4\n",
       "6      outbreak  4\n",
       "7           see  4\n",
       "8          live  4\n",
       "9         DeMar  3\n",
       "10      DeRozan  3\n",
       "11     Canadian  3\n",
       "12         2020  3\n",
       "13           We  3\n",
       "14       tweets  3\n",
       "15          Bad  3\n",
       "16     Toronto,  3\n",
       "17     Toronto.  3\n",
       "18          two  3"
      ]
     },
     "execution_count": 98,
     "metadata": {},
     "output_type": "execute_result"
    }
   ],
   "source": [
    "df2 = pd.DataFrame(Top_words)\n",
    "df2"
   ]
  },
  {
   "cell_type": "code",
   "execution_count": 99,
   "metadata": {
    "scrolled": true
   },
   "outputs": [
    {
     "data": {
      "text/html": [
       "<div>\n",
       "<style scoped>\n",
       "    .dataframe tbody tr th:only-of-type {\n",
       "        vertical-align: middle;\n",
       "    }\n",
       "\n",
       "    .dataframe tbody tr th {\n",
       "        vertical-align: top;\n",
       "    }\n",
       "\n",
       "    .dataframe thead th {\n",
       "        text-align: right;\n",
       "    }\n",
       "</style>\n",
       "<table border=\"1\" class=\"dataframe\">\n",
       "  <thead>\n",
       "    <tr style=\"text-align: right;\">\n",
       "      <th></th>\n",
       "      <th>Count</th>\n",
       "    </tr>\n",
       "    <tr>\n",
       "      <th>0</th>\n",
       "      <th></th>\n",
       "    </tr>\n",
       "  </thead>\n",
       "  <tbody>\n",
       "    <tr>\n",
       "      <td>#Toronto</td>\n",
       "      <td>6</td>\n",
       "    </tr>\n",
       "    <tr>\n",
       "      <td>2020</td>\n",
       "      <td>3</td>\n",
       "    </tr>\n",
       "    <tr>\n",
       "      <td>A</td>\n",
       "      <td>5</td>\n",
       "    </tr>\n",
       "    <tr>\n",
       "      <td>Bad</td>\n",
       "      <td>3</td>\n",
       "    </tr>\n",
       "    <tr>\n",
       "      <td>Canadian</td>\n",
       "      <td>3</td>\n",
       "    </tr>\n",
       "    <tr>\n",
       "      <td>DeMar</td>\n",
       "      <td>3</td>\n",
       "    </tr>\n",
       "    <tr>\n",
       "      <td>DeRozan</td>\n",
       "      <td>3</td>\n",
       "    </tr>\n",
       "    <tr>\n",
       "      <td>Toronto,</td>\n",
       "      <td>3</td>\n",
       "    </tr>\n",
       "    <tr>\n",
       "      <td>Toronto.</td>\n",
       "      <td>3</td>\n",
       "    </tr>\n",
       "    <tr>\n",
       "      <td>We</td>\n",
       "      <td>3</td>\n",
       "    </tr>\n",
       "    <tr>\n",
       "      <td>alert</td>\n",
       "      <td>4</td>\n",
       "    </tr>\n",
       "    <tr>\n",
       "      <td>listeriosis</td>\n",
       "      <td>4</td>\n",
       "    </tr>\n",
       "    <tr>\n",
       "      <td>live</td>\n",
       "      <td>4</td>\n",
       "    </tr>\n",
       "    <tr>\n",
       "      <td>nuclear</td>\n",
       "      <td>5</td>\n",
       "    </tr>\n",
       "    <tr>\n",
       "      <td>one</td>\n",
       "      <td>5</td>\n",
       "    </tr>\n",
       "    <tr>\n",
       "      <td>outbreak</td>\n",
       "      <td>4</td>\n",
       "    </tr>\n",
       "    <tr>\n",
       "      <td>see</td>\n",
       "      <td>4</td>\n",
       "    </tr>\n",
       "    <tr>\n",
       "      <td>tweets</td>\n",
       "      <td>3</td>\n",
       "    </tr>\n",
       "    <tr>\n",
       "      <td>two</td>\n",
       "      <td>3</td>\n",
       "    </tr>\n",
       "  </tbody>\n",
       "</table>\n",
       "</div>"
      ],
      "text/plain": [
       "             Count\n",
       "0                 \n",
       "#Toronto         6\n",
       "2020             3\n",
       "A                5\n",
       "Bad              3\n",
       "Canadian         3\n",
       "DeMar            3\n",
       "DeRozan          3\n",
       "Toronto,         3\n",
       "Toronto.         3\n",
       "We               3\n",
       "alert            4\n",
       "listeriosis      4\n",
       "live             4\n",
       "nuclear          5\n",
       "one              5\n",
       "outbreak         4\n",
       "see              4\n",
       "tweets           3\n",
       "two              3"
      ]
     },
     "execution_count": 99,
     "metadata": {},
     "output_type": "execute_result"
    }
   ],
   "source": [
    "df3 = df2.pivot_table(values=1,index=0)\n",
    "df3.columns = ['Count']\n",
    "df3"
   ]
  },
  {
   "cell_type": "code",
   "execution_count": 100,
   "metadata": {
    "scrolled": false
   },
   "outputs": [
    {
     "data": {
      "text/plain": [
       "Text(0.5, 0, 'Word Frequency')"
      ]
     },
     "execution_count": 100,
     "metadata": {},
     "output_type": "execute_result"
    },
    {
     "data": {
      "image/png": "[encoded data removed]",
      "text/plain": [
       "<Figure size 1080x720 with 1 Axes>"
      ]
     },
     "metadata": {
      "needs_background": "light"
     },
     "output_type": "display_data"
    }
   ],
   "source": [
    "df3.plot.bar(figsize=(15,10),color='rgb')\n",
    "plt.title('Most Commont Words Frequency')\n",
    "plt.ylabel('Word Frequency')\n",
    "plt.xlabel('Word Frequency')"
   ]
  },
  {
   "cell_type": "code",
   "execution_count": 102,
   "metadata": {},
   "outputs": [],
   "source": [
    "# Lets look at the associated hastags for the searched query\n",
    "\n",
    "hashtags = [ hashtag['text'] \n",
    "             for status in statuses\n",
    "                 for hashtag in status['entities']['hashtags'] ]"
   ]
  },
  {
   "cell_type": "code",
   "execution_count": 103,
   "metadata": {
    "scrolled": true
   },
   "outputs": [
    {
     "data": {
      "text/plain": [
       "['hockey',\n",
       " 'Toronto',\n",
       " 'renewannewithane',\n",
       " 'awaebillboard',\n",
       " 'Toronto',\n",
       " 'Canada',\n",
       " 'inspired',\n",
       " 'renewannewithane',\n",
       " 'NowPlaying',\n",
       " 'Radio',\n",
       " 'Rock',\n",
       " 'Toronto',\n",
       " 'Toronto',\n",
       " 'UkrainianPlaneCrash',\n",
       " 'Toronto',\n",
       " 'lostdog',\n",
       " 'Toronto',\n",
       " 'etobicoke',\n",
       " 'Toronto',\n",
       " 'photograghy',\n",
       " 'upgrade',\n",
       " 'Giveaway',\n",
       " 'win']"
      ]
     },
     "execution_count": 103,
     "metadata": {},
     "output_type": "execute_result"
    }
   ],
   "source": [
    "hashtags"
   ]
  },
  {
   "cell_type": "code",
   "execution_count": 104,
   "metadata": {},
   "outputs": [
    {
     "name": "stdout",
     "output_type": "stream",
     "text": [
      "[('Toronto', 7), ('renewannewithane', 2), ('hockey', 1), ('awaebillboard', 1), ('Canada', 1), ('inspired', 1), ('NowPlaying', 1), ('Radio', 1), ('Rock', 1), ('UkrainianPlaneCrash', 1), ('lostdog', 1), ('etobicoke', 1), ('photograghy', 1), ('upgrade', 1), ('Giveaway', 1)]\n",
      "\n"
     ]
    }
   ],
   "source": [
    "c2 = Counter(hashtags)\n",
    "print(c2.most_common()[:15]) # top 10\n",
    "print()"
   ]
  },
  {
   "cell_type": "code",
   "execution_count": null,
   "metadata": {},
   "outputs": [],
   "source": []
  }
 ],
 "metadata": {
  "kernelspec": {
   "display_name": "Python 3",
   "language": "python",
   "name": "python3"
  },
  "language_info": {
   "codemirror_mode": {
    "name": "ipython",
    "version": 3
   },
   "file_extension": ".py",
   "mimetype": "text/x-python",
   "name": "python",
   "nbconvert_exporter": "python",
   "pygments_lexer": "ipython3",
   "version": "3.7.4"
  }
 },
 "nbformat": 4,
 "nbformat_minor": 2
}
